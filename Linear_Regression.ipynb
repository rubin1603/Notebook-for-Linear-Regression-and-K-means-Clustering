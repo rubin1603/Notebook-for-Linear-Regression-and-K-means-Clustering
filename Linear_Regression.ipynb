{
  "nbformat": 4,
  "nbformat_minor": 0,
  "metadata": {
    "colab": {
      "name": "Untitled",
      "provenance": [],
      "collapsed_sections": []
    },
    "kernelspec": {
      "name": "python3",
      "display_name": "Python 3"
    }
  },
  "cells": [
    {
      "cell_type": "code",
      "metadata": {
        "id": "0obc3ysfunn3",
        "colab_type": "code",
        "outputId": "5cddf10f-615f-4546-8f9f-33b8d348811d",
        "colab": {
          "base_uri": "https://localhost:8080/",
          "height": 52
        }
      },
      "source": [
        "#question1\n",
        "pip install geopy"
      ],
      "execution_count": 0,
      "outputs": [
        {
          "output_type": "stream",
          "text": [
            "Requirement already satisfied: geopy in /usr/local/lib/python3.6/dist-packages (1.17.0)\n",
            "Requirement already satisfied: geographiclib<2,>=1.49 in /usr/local/lib/python3.6/dist-packages (from geopy) (1.50)\n"
          ],
          "name": "stdout"
        }
      ]
    },
    {
      "cell_type": "code",
      "metadata": {
        "id": "WVunN1Vgu61J",
        "colab_type": "code",
        "outputId": "42457b24-9d31-4621-a887-0fea355414bb",
        "colab": {
          "base_uri": "https://localhost:8080/",
          "height": 141
        }
      },
      "source": [
        "from geopy.geocoders import Nominatim\n",
        "city = [\"Vijaynagar\",\"Mumbai\",\"Palasia\",\"Indore\"]\n",
        "# city = Palasia\n",
        "geolocator = Nominatim()\n",
        "for i in range(len(city)):\n",
        "  location = geolocator.geocode(city[i])\n",
        "  print((location.latitude, location.longitude))\n"
      ],
      "execution_count": 0,
      "outputs": [
        {
          "output_type": "stream",
          "text": [
            "/usr/local/lib/python3.6/dist-packages/geopy/geocoders/osm.py:143: UserWarning: Using Nominatim with the default \"geopy/1.17.0\" `user_agent` is strongly discouraged, as it violates Nominatim's ToS https://operations.osmfoundation.org/policies/nominatim/ and may possibly cause 403 and 429 HTTP errors. Please specify a custom `user_agent` with `Nominatim(user_agent=\"my-application\")` or by overriding the default `user_agent`: `geopy.geocoders.options.default_user_agent = \"my-application\"`. In geopy 2.0 this will become an exception.\n",
            "  UserWarning\n"
          ],
          "name": "stderr"
        },
        {
          "output_type": "stream",
          "text": [
            "(27.4600791, 96.6184625)\n",
            "(18.9387711, 72.8353355)\n",
            "(22.7291382, 75.8888823)\n",
            "(22.7203851, 75.8682103)\n"
          ],
          "name": "stdout"
        }
      ]
    },
    {
      "cell_type": "code",
      "metadata": {
        "id": "DWztcDtFwO9k",
        "colab_type": "code",
        "colab": {}
      },
      "source": [
        "#question2\n",
        "\n",
        "import numpy as np\n",
        "import matplotlib.pyplot as plt\n",
        "import pandas as pd\n",
        "import sklearn\n",
        " \n",
        "\n",
        "\n",
        "\n"
      ],
      "execution_count": 0,
      "outputs": []
    },
    {
      "cell_type": "code",
      "metadata": {
        "id": "VG0pdZL1_bRR",
        "colab_type": "code",
        "outputId": "021dfddf-d6e3-40ff-fc90-492042ecaa1d",
        "colab": {
          "base_uri": "https://localhost:8080/",
          "height": 224
        }
      },
      "source": [
        "df = pd.read_csv('/rubin_linear.csv')\n",
        "\n",
        "df.head()\n"
      ],
      "execution_count": 0,
      "outputs": [
        {
          "output_type": "execute_result",
          "data": {
            "text/html": [
              "<div>\n",
              "<style scoped>\n",
              "    .dataframe tbody tr th:only-of-type {\n",
              "        vertical-align: middle;\n",
              "    }\n",
              "\n",
              "    .dataframe tbody tr th {\n",
              "        vertical-align: top;\n",
              "    }\n",
              "\n",
              "    .dataframe thead th {\n",
              "        text-align: right;\n",
              "    }\n",
              "</style>\n",
              "<table border=\"1\" class=\"dataframe\">\n",
              "  <thead>\n",
              "    <tr style=\"text-align: right;\">\n",
              "      <th></th>\n",
              "      <th>29204.45 0.00    0.00    2352.98 1661.54 1293.29 1423.05 864.53  1138.91 1183.72 1298.06 3297.26 2638.59 1092.86 923.44  803.40  808.72  1062.89 832.35</th>\n",
              "    </tr>\n",
              "  </thead>\n",
              "  <tbody>\n",
              "    <tr>\n",
              "      <th>0</th>\n",
              "      <td>29204.46 0.00    0.00    2347.76 1662.21 1288....</td>\n",
              "    </tr>\n",
              "    <tr>\n",
              "      <th>1</th>\n",
              "      <td>29204.47 0.00    0.00    2358.69 1642.10 1284....</td>\n",
              "    </tr>\n",
              "    <tr>\n",
              "      <th>2</th>\n",
              "      <td>29204.48 0.00    0.00    2347.02 1654.68 1288....</td>\n",
              "    </tr>\n",
              "    <tr>\n",
              "      <th>3</th>\n",
              "      <td>29204.49 0.00    0.00    2344.54 1651.15 1286....</td>\n",
              "    </tr>\n",
              "    <tr>\n",
              "      <th>4</th>\n",
              "      <td>29204.50 0.00    0.00    2348.76 1656.45 1281....</td>\n",
              "    </tr>\n",
              "  </tbody>\n",
              "</table>\n",
              "</div>"
            ],
            "text/plain": [
              "  29204.45 0.00    0.00    2352.98 1661.54 1293.29 1423.05 864.53  1138.91 1183.72 1298.06 3297.26 2638.59 1092.86 923.44  803.40  808.72  1062.89 832.35 \n",
              "0  29204.46 0.00    0.00    2347.76 1662.21 1288....                                                                                                      \n",
              "1  29204.47 0.00    0.00    2358.69 1642.10 1284....                                                                                                      \n",
              "2  29204.48 0.00    0.00    2347.02 1654.68 1288....                                                                                                      \n",
              "3  29204.49 0.00    0.00    2344.54 1651.15 1286....                                                                                                      \n",
              "4  29204.50 0.00    0.00    2348.76 1656.45 1281....                                                                                                      "
            ]
          },
          "metadata": {
            "tags": []
          },
          "execution_count": 36
        }
      ]
    },
    {
      "cell_type": "code",
      "metadata": {
        "id": "EHTsAXItAbe2",
        "colab_type": "code",
        "colab": {}
      },
      "source": [
        "X = df.iloc[:, :-1].values\n",
        "Y = df.iloc[:, 1].values\n"
      ],
      "execution_count": 0,
      "outputs": []
    },
    {
      "cell_type": "code",
      "metadata": {
        "id": "X6dbi8aQAeuH",
        "colab_type": "code",
        "colab": {}
      },
      "source": [
        "import numpy as np\n",
        "import matplotlib.pyplot as plt\n",
        "import pandas as pd\n",
        "import sklearn"
      ],
      "execution_count": 0,
      "outputs": []
    },
    {
      "cell_type": "code",
      "metadata": {
        "id": "3kksViRdSi-a",
        "colab_type": "code",
        "outputId": "880fb42e-fe8c-44ba-cd92-24bd2e8234b4",
        "colab": {
          "base_uri": "https://localhost:8080/",
          "height": 226
        }
      },
      "source": [
        "df= pd.read_csv('rubin1.txt',delimiter=r'\\s+',encoding='utf-8')\n",
        "# df= df.iloc[2880000:2920000,1:]\n",
        "X= df.iloc[: ,2: ]\n",
        "Y= df.iloc[: ,1:2]\n",
        "from sklearn import linear_model, model_selection\n",
        "model= linear_model.LinearRegression()\n",
        "df.head()"
      ],
      "execution_count": 0,
      "outputs": [
        {
          "output_type": "execute_result",
          "data": {
            "text/html": [
              "<div>\n",
              "<style scoped>\n",
              "    .dataframe tbody tr th:only-of-type {\n",
              "        vertical-align: middle;\n",
              "    }\n",
              "\n",
              "    .dataframe tbody tr th {\n",
              "        vertical-align: top;\n",
              "    }\n",
              "\n",
              "    .dataframe thead th {\n",
              "        text-align: right;\n",
              "    }\n",
              "</style>\n",
              "<table border=\"1\" class=\"dataframe\">\n",
              "  <thead>\n",
              "    <tr style=\"text-align: right;\">\n",
              "      <th></th>\n",
              "      <th></th>\n",
              "      <th></th>\n",
              "      <th></th>\n",
              "      <th></th>\n",
              "      <th></th>\n",
              "      <th></th>\n",
              "      <th></th>\n",
              "      <th></th>\n",
              "      <th>Time</th>\n",
              "      <th>(seconds),</th>\n",
              "      <th>Methane</th>\n",
              "      <th>conc</th>\n",
              "      <th>(ppm),</th>\n",
              "      <th>Ethylene</th>\n",
              "      <th>conc.1</th>\n",
              "      <th>(ppm),.1</th>\n",
              "      <th>s1,</th>\n",
              "      <th>s2,s3,s4,s5,s6,s7,s8,s9,s10,s11,s12,s13,s14,s15,s16</th>\n",
              "    </tr>\n",
              "  </thead>\n",
              "  <tbody>\n",
              "    <tr>\n",
              "      <th>28804.46</th>\n",
              "      <th>0.0</th>\n",
              "      <th>0.0</th>\n",
              "      <th>2345.03</th>\n",
              "      <th>1668.19</th>\n",
              "      <th>1506.70</th>\n",
              "      <th>1671.29</th>\n",
              "      <th>971.62</th>\n",
              "      <th>1246.16</th>\n",
              "      <td>1332.45</td>\n",
              "      <td>1454.78</td>\n",
              "      <td>3304.46</td>\n",
              "      <td>2637.29</td>\n",
              "      <td>1239.37</td>\n",
              "      <td>1064.69</td>\n",
              "      <td>908.90</td>\n",
              "      <td>907.54</td>\n",
              "      <td>1167.86</td>\n",
              "      <td>925.77</td>\n",
              "    </tr>\n",
              "    <tr>\n",
              "      <th>28804.47</th>\n",
              "      <th>0.0</th>\n",
              "      <th>0.0</th>\n",
              "      <th>2341.07</th>\n",
              "      <th>1659.99</th>\n",
              "      <th>1492.92</th>\n",
              "      <th>1689.05</th>\n",
              "      <th>990.27</th>\n",
              "      <th>1243.07</th>\n",
              "      <td>1320.96</td>\n",
              "      <td>1457.13</td>\n",
              "      <td>3299.28</td>\n",
              "      <td>2643.02</td>\n",
              "      <td>1241.42</td>\n",
              "      <td>1062.89</td>\n",
              "      <td>907.93</td>\n",
              "      <td>925.00</td>\n",
              "      <td>1158.74</td>\n",
              "      <td>926.75</td>\n",
              "    </tr>\n",
              "    <tr>\n",
              "      <th>28804.48</th>\n",
              "      <th>0.0</th>\n",
              "      <th>0.0</th>\n",
              "      <th>2334.62</th>\n",
              "      <th>1641.21</th>\n",
              "      <th>1497.01</th>\n",
              "      <th>1669.96</th>\n",
              "      <th>981.43</th>\n",
              "      <th>1252.54</th>\n",
              "      <td>1327.85</td>\n",
              "      <td>1451.36</td>\n",
              "      <td>3280.02</td>\n",
              "      <td>2622.76</td>\n",
              "      <td>1246.77</td>\n",
              "      <td>1072.27</td>\n",
              "      <td>915.87</td>\n",
              "      <td>928.69</td>\n",
              "      <td>1173.96</td>\n",
              "      <td>913.16</td>\n",
              "    </tr>\n",
              "    <tr>\n",
              "      <th>28804.49</th>\n",
              "      <th>0.0</th>\n",
              "      <th>0.0</th>\n",
              "      <th>2347.76</th>\n",
              "      <th>1665.97</th>\n",
              "      <th>1487.55</th>\n",
              "      <th>1663.09</th>\n",
              "      <th>986.53</th>\n",
              "      <th>1243.27</th>\n",
              "      <td>1317.21</td>\n",
              "      <td>1460.12</td>\n",
              "      <td>3294.39</td>\n",
              "      <td>2630.54</td>\n",
              "      <td>1227.66</td>\n",
              "      <td>1080.05</td>\n",
              "      <td>919.95</td>\n",
              "      <td>921.50</td>\n",
              "      <td>1173.14</td>\n",
              "      <td>929.08</td>\n",
              "    </tr>\n",
              "    <tr>\n",
              "      <th>28804.50</th>\n",
              "      <th>0.0</th>\n",
              "      <th>0.0</th>\n",
              "      <th>2347.52</th>\n",
              "      <th>1662.21</th>\n",
              "      <th>1495.29</th>\n",
              "      <th>1660.44</th>\n",
              "      <th>980.06</th>\n",
              "      <th>1250.48</th>\n",
              "      <td>1330.98</td>\n",
              "      <td>1474.25</td>\n",
              "      <td>3304.17</td>\n",
              "      <td>2634.70</td>\n",
              "      <td>1236.49</td>\n",
              "      <td>1058.71</td>\n",
              "      <td>895.36</td>\n",
              "      <td>927.52</td>\n",
              "      <td>1161.78</td>\n",
              "      <td>918.98</td>\n",
              "    </tr>\n",
              "  </tbody>\n",
              "</table>\n",
              "</div>"
            ],
            "text/plain": [
              "                                                                    Time  ...  s2,s3,s4,s5,s6,s7,s8,s9,s10,s11,s12,s13,s14,s15,s16\n",
              "28804.46 0.0 0.0 2345.03 1668.19 1506.70 1671.29 971.62 1246.16  1332.45  ...                                             925.77  \n",
              "28804.47 0.0 0.0 2341.07 1659.99 1492.92 1689.05 990.27 1243.07  1320.96  ...                                             926.75  \n",
              "28804.48 0.0 0.0 2334.62 1641.21 1497.01 1669.96 981.43 1252.54  1327.85  ...                                             913.16  \n",
              "28804.49 0.0 0.0 2347.76 1665.97 1487.55 1663.09 986.53 1243.27  1317.21  ...                                             929.08  \n",
              "28804.50 0.0 0.0 2347.52 1662.21 1495.29 1660.44 980.06 1250.48  1330.98  ...                                             918.98  \n",
              "\n",
              "[5 rows x 10 columns]"
            ]
          },
          "metadata": {
            "tags": []
          },
          "execution_count": 53
        }
      ]
    },
    {
      "cell_type": "code",
      "metadata": {
        "id": "B5gho2gcUGzo",
        "colab_type": "code",
        "outputId": "7a409614-2f5d-4b8f-9fb1-59a8db5d88ad",
        "colab": {
          "base_uri": "https://localhost:8080/",
          "height": 34
        }
      },
      "source": [
        "from sklearn import linear_model, model_selection\n",
        "model= linear_model.LinearRegression()\n",
        "X_train, X_test, Y_train, Y_test = model_selection.train_test_split(X,Y,test_size=0.25)\n",
        "model.fit(X_train,Y_train)\n",
        "\n",
        "model.score(X_train,Y_train)\n",
        "model.score(X_test,Y_test)"
      ],
      "execution_count": 0,
      "outputs": [
        {
          "output_type": "execute_result",
          "data": {
            "text/plain": [
              "0.9997428149524703"
            ]
          },
          "metadata": {
            "tags": []
          },
          "execution_count": 55
        }
      ]
    },
    {
      "cell_type": "code",
      "metadata": {
        "id": "2UJG8psLYGrY",
        "colab_type": "code",
        "colab": {}
      },
      "source": [
        "pred= model.predict(X_test)"
      ],
      "execution_count": 0,
      "outputs": []
    },
    {
      "cell_type": "code",
      "metadata": {
        "id": "myCzMs28azNM",
        "colab_type": "code",
        "colab": {}
      },
      "source": [
        "from sklearn.metrics import mean_squared_error\n",
        "test_set_rmse= (np.sqrt(mean_squared_error(Y_test, pred)))"
      ],
      "execution_count": 0,
      "outputs": []
    },
    {
      "cell_type": "code",
      "metadata": {
        "id": "0zpBKjC-YWmy",
        "colab_type": "code",
        "outputId": "b605ce23-7ab3-4df6-a72b-00bce4da46e6",
        "colab": {
          "base_uri": "https://localhost:8080/",
          "height": 34
        }
      },
      "source": [
        "print(test_set_rmse)"
      ],
      "execution_count": 0,
      "outputs": [
        {
          "output_type": "stream",
          "text": [
            "18.765229679330435\n"
          ],
          "name": "stdout"
        }
      ]
    },
    {
      "cell_type": "code",
      "metadata": {
        "id": "sN0ziJfvZGip",
        "colab_type": "code",
        "outputId": "1c37efba-f41f-46cc-e880-1f8e429b6ad3",
        "colab": {
          "base_uri": "https://localhost:8080/",
          "height": 69
        }
      },
      "source": [
        "pip install sys"
      ],
      "execution_count": 0,
      "outputs": [
        {
          "output_type": "stream",
          "text": [
            "Collecting sys\n",
            "\u001b[31m  ERROR: Could not find a version that satisfies the requirement sys (from versions: none)\u001b[0m\n",
            "\u001b[31mERROR: No matching distribution found for sys\u001b[0m\n"
          ],
          "name": "stdout"
        }
      ]
    },
    {
      "cell_type": "code",
      "metadata": {
        "id": "oTfwDf3EZIur",
        "colab_type": "code",
        "outputId": "a17704e2-c165-48ef-96dc-c1d95f1f8e02",
        "colab": {
          "base_uri": "https://localhost:8080/",
          "height": 69
        }
      },
      "source": [
        "#k fold testing\n",
        "from sklearn.model_selection import KFold\n",
        "kf= KFold(n_splits=3)\n",
        "for train, test in kf.split(X_train):\n",
        "  print(\"%s %s\" % (train, test))"
      ],
      "execution_count": 0,
      "outputs": [
        {
          "output_type": "stream",
          "text": [
            "[10000 10001 10002 ... 29996 29997 29998] [   0    1    2 ... 9997 9998 9999]\n",
            "[    0     1     2 ... 29996 29997 29998] [10000 10001 10002 ... 19997 19998 19999]\n",
            "[    0     1     2 ... 19997 19998 19999] [20000 20001 20002 ... 29996 29997 29998]\n"
          ],
          "name": "stdout"
        }
      ]
    },
    {
      "cell_type": "code",
      "metadata": {
        "id": "axnPdJjmzn_u",
        "colab_type": "code",
        "outputId": "9a522aac-c103-4342-c67a-ccabf1a1a2fe",
        "colab": {
          "base_uri": "https://localhost:8080/",
          "height": 69
        }
      },
      "source": [
        "#question 3\n",
        "pip install idx2numpy"
      ],
      "execution_count": 0,
      "outputs": [
        {
          "output_type": "stream",
          "text": [
            "Requirement already satisfied: idx2numpy in /usr/local/lib/python3.6/dist-packages (1.2.2)\n",
            "Requirement already satisfied: numpy in /usr/local/lib/python3.6/dist-packages (from idx2numpy) (1.16.5)\n",
            "Requirement already satisfied: six in /usr/local/lib/python3.6/dist-packages (from idx2numpy) (1.12.0)\n"
          ],
          "name": "stdout"
        }
      ]
    },
    {
      "cell_type": "code",
      "metadata": {
        "id": "Q4BRjEbI-eG-",
        "colab_type": "code",
        "colab": {}
      },
      "source": [
        "import idx2numpy\n",
        "import numpy as np\n",
        "file = 'train-images.idx3-ubyte'\n",
        "arr = idx2numpy.convert_from_file(file)\n",
        "labl = 'train-labels.idx1-ubyte'\n",
        "lbarr = idx2numpy.convert_from_file(labl)\n",
        "my_data = []\n",
        "my_lables = []\n",
        "\n",
        "for i in range(len(lbarr)):\n",
        "    if(lbarr[i]==2 or lbarr[i]==3):\n",
        "        my_lables.append(lbarr[i])\n",
        "        my_data.append(arr[i])\n",
        "\n",
        "my_lables = np.asarray(my_lables)\n",
        "my_data = np.asarray(my_data)\n",
        "\n",
        "avg = []\n",
        "for data in my_data:\n",
        "    avg.append(np.mean(data))\n",
        "avg = np.asarray(avg)\n",
        "\n",
        "cor = []\n",
        "for data in my_data:\n",
        "    cor.append(np.corrcoef([data[:,:14].flatten(), np.flip(data[:,14:],axis=1).flatten()])[0][1])\n",
        "cor = np.asarray(cor)\n",
        "\n",
        "a1 = []\n",
        "s1 = []\n",
        "a2 = []\n",
        "s2 = []\n",
        "for i in range(len(my_lables)):\n",
        "    if my_lables[i]==1:\n",
        "        a1.append(avg[i])\n",
        "        s1.append(cor[i])\n",
        "    elif my_lables[i]==2:\n",
        "        a2.append(avg[i])\n",
        "        s2.append(cor[i])\n",
        "\n",
        "import matplotlib.pyplot as plt\n",
        "\n",
        "plt.figure(figsize=(20,10))\n",
        "plt.xlabel('Avg')\n",
        "plt.ylabel('Sym')\n",
        "d1 = plt.scatter(a1,s1,color='blue')\n",
        "d2 = plt.scatter(a2,s2,color='red')\n",
        "plt.legend((d1, d2), ('Digit 1', 'Digit 2'), scatterpoints=1, loc='lower left', ncol=3, fontsize=8)"
      ],
      "execution_count": 0,
      "outputs": []
    },
    {
      "cell_type": "code",
      "metadata": {
        "id": "O2du_HlC_5hN",
        "colab_type": "code",
        "colab": {}
      },
      "source": [
        "for i in range(len(cor)):\n",
        "    if np.isnan(cor[i]):\n",
        "        cor[i] = 0\n",
        "\n",
        "ls=[]\n",
        "for i in range(len(cor)):\n",
        "    ls.append((avg[i],cor[i]))\n",
        "    \n",
        "from sklearn.cluster import KMeans\n",
        "wcss = []\n",
        "for i in range(1, 11):\n",
        "    kmeans = KMeans(n_clusters=i, init='k-means++', max_iter=300, n_init=10, random_state=0)\n",
        "    kmeans.fit(ls)\n",
        "    wcss.append(kmeans.inertia_)\n",
        "plt.plot(range(1, 11), wcss)\n",
        "plt.title('Elbow Method')\n",
        "plt.xlabel('Number of clusters')\n",
        "plt.ylabel('WCSS')\n",
        "plt.show()"
      ],
      "execution_count": 0,
      "outputs": []
    },
    {
      "cell_type": "code",
      "metadata": {
        "id": "Y9rh_m9IB1Qo",
        "colab_type": "code",
        "colab": {}
      },
      "source": [
        "kmeans = KMeans(n_clusters=4, init='k-means++', max_iter=300, n_init=10, random_state=0)\n",
        "pred_y = kmeans.fit_predict(ls)\n",
        "plt.figure(figsize=(20,10))\n",
        "plt.xlabel('Avg')\n",
        "plt.ylabel('Sym')\n",
        "plt.title('For 4 Clusters')\n",
        "plt.scatter(avg, cor)\n",
        "plt.scatter(kmeans.cluster_centers_[:, 0], kmeans.cluster_centers_[:, 1], s=300, c='red')\n",
        "plt.show()"
      ],
      "execution_count": 0,
      "outputs": []
    },
    {
      "cell_type": "code",
      "metadata": {
        "id": "ILFRh0RFB7EJ",
        "colab_type": "code",
        "colab": {}
      },
      "source": [
        "kmeans = KMeans(n_clusters=2, init='k-means++', max_iter=300, n_init=10, random_state=0)\n",
        "pred_y = kmeans.fit_predict(ls)\n",
        "plt.figure(figsize=(20,10))\n",
        "plt.xlabel('Avg')\n",
        "plt.ylabel('Sym')\n",
        "plt.title('For 2 Clusters')\n",
        "plt.scatter(avg, cor)\n",
        "plt.scatter(kmeans.cluster_centers_[:, 0], kmeans.cluster_centers_[:, 1], s=300, c='red')\n",
        "plt.show()"
      ],
      "execution_count": 0,
      "outputs": []
    },
    {
      "cell_type": "code",
      "metadata": {
        "id": "Fl-61M-QCAUv",
        "colab_type": "code",
        "colab": {}
      },
      "source": [
        ""
      ],
      "execution_count": 0,
      "outputs": []
    }
  ]
}